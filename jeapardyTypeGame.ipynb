{
 "cells": [
  {
   "cell_type": "code",
   "execution_count": 24,
   "metadata": {
    "pycharm": {
     "is_executing": true,
     "name": "#%%\n"
    }
   },
   "outputs": [
    {
     "name": "stderr",
     "output_type": "stream",
     "text": [
      "100%|██████████| 1340242/1340242 [01:01<00:00, 21788.31it/s]\n"
     ]
    },
    {
     "name": "stdout",
     "output_type": "stream",
     "text": [
      "['MAN', 'Man', 'mAn', 'MAn', 'MaN', 'man', 'mAN', 'BOY', 'boy', 'Boy']\n"
     ]
    }
   ],
   "source": [
    "from tqdm import tqdm\n",
    "\n",
    "import spacy\n",
    "from scipy import spatial\n",
    "\n",
    "nlp = spacy.load('en_core_web_lg')\n",
    "cosine_similarity = lambda x, y: 1 - spatial.distance.cosine(x, y)\n",
    "\n",
    "from tkinter import *\n",
    "from tkinter import scrolledtext\n",
    "# from tkinter import ttk\n",
    "\n",
    "import random\n",
    "wordList = [\"Prince\", \"King\", \"Queen\", \"Handyman\", \"Father\", \"Boat\", \"Car\", \"Home\", \"Chair\"]\n",
    "\n",
    "window = Tk()\n",
    "window.title(\"Jeapardy..like..game?..idk?\")\n",
    "window.geometry('400x600')\n",
    "\n",
    "def getRandomWord():\n",
    "    x = random.randint(0,8)\n",
    "    print(x)\n",
    "    lblRandomWord.configure(text=wordList[x])\n",
    "\n",
    "\n",
    "lbl = Label(window, text=\"Word to form:\")\n",
    "lbl.grid(column=0, row=0)\n",
    "lblRandomWord = Label(window, text=\"Prince\", font=(\"Arial Bold\", 15))\n",
    "lblRandomWord.grid(column=1, row=0)\n",
    "\n",
    "btnNewRandomWord = Button(window, text=\"New Word!\", command=getRandomWord)\n",
    "btnNewRandomWord.grid(column=2, row=0)\n",
    "\n",
    "txtword1 = Entry(window, width=10)\n",
    "txtword1.grid(column=0, row=1)\n",
    "firstSymbol = IntVar()\n",
    "radio1 = Radiobutton(window,text='+', value=1, variable=firstSymbol)\n",
    "radio2 = Radiobutton(window,text='-', value=2, variable=firstSymbol)\n",
    "radio1.grid(column=0, row=2)\n",
    "radio2.grid(column=1, row=2)\n",
    "radio1.select()\n",
    "txtword2 = Entry(window, width=10)\n",
    "txtword2.grid(column=0, row=3)\n",
    "secondSymbol = IntVar()\n",
    "radio3 = Radiobutton(window,text='+', value=1, variable=secondSymbol)\n",
    "radio4 = Radiobutton(window,text='-', value=2, variable=secondSymbol)\n",
    "radio3.grid(column=0, row=4)\n",
    "radio4.grid(column=1, row=4)\n",
    "radio3.select()\n",
    "txtword3 = Entry(window, width=10)\n",
    "txtword3.grid(column=0, row=5)\n",
    "thirdSymbol = IntVar()\n",
    "radio5 = Radiobutton(window,text='+', value=1, variable=thirdSymbol)\n",
    "radio6 = Radiobutton(window,text='-', value=2, variable=thirdSymbol)\n",
    "radio5.grid(column=0, row=6)\n",
    "radio6.grid(column=1, row=6)\n",
    "radio5.select()\n",
    "txtword4 = Entry(window, width=10)\n",
    "txtword4.grid(column=0, row=7)\n",
    "\n",
    "# progressbar= ttk.Progressbar(window,orient=\"vertical\",length=300,mode=\"determinate\")\n",
    "# progressbar.grid(column=0, row=9)\n",
    "\n",
    "def calculateResult():\n",
    "    computed_similarities = []\n",
    "    if txtword1.get().strip() == \"\" or txtword2.get().strip() == \"\" or txtword3.get().strip() == \"\" or txtword4.get().strip() == \"\":\n",
    "        print(\"Something's empty\")\n",
    "        resultTextBox.delete(1.0,END)\n",
    "        resultTextBox.insert(INSERT, \"Please enter all 4 words\")\n",
    "    else:        \n",
    "        word1 = nlp.vocab[txtword1.get().strip()].vector\n",
    "        word2 = nlp.vocab[txtword2.get().strip()].vector\n",
    "        word3 = nlp.vocab[txtword3.get().strip()].vector\n",
    "        word4 = nlp.vocab[txtword4.get().strip()].vector\n",
    "        \n",
    "        maybe_outcome = word1\n",
    "        \n",
    "        if firstSymbol.get() == 1:\n",
    "            maybe_outcome = maybe_outcome + word2\n",
    "        else:\n",
    "            maybe_outcome = maybe_outcome - word2\n",
    "        if secondSymbol.get() == 1:\n",
    "            maybe_outcome = maybe_outcome + word3\n",
    "        else:\n",
    "            maybe_outcome = maybe_outcome - word3\n",
    "        if thirdSymbol.get() == 1:\n",
    "            maybe_outcome = maybe_outcome + word4\n",
    "        else:\n",
    "            maybe_outcome = maybe_outcome - word4\n",
    "    \n",
    "        \n",
    "#         currentValue = 0\n",
    "#         progressbar['maximum'] = len(nlp.vocab)\n",
    "#         progressbar['value'] = currentValue\n",
    "    \n",
    "        with tqdm(total=len(nlp.vocab)) as pbar:\n",
    "            for word in nlp.vocab:\n",
    "                pbar.update(1)\n",
    "#             currentValue = currentValue + 1\n",
    "#             progressbar['value'] = currentValue\n",
    "#             progressbar.update()\n",
    "                if not word.has_vector:\n",
    "                    continue\n",
    "        \n",
    "                similarity = cosine_similarity(maybe_outcome, word.vector)\n",
    "                computed_similarities.append((word, similarity))\n",
    "\n",
    "        computed_similarities = sorted(computed_similarities, key=lambda item: -item[1])\n",
    "        resultTextBox.delete(1.0,END)\n",
    "        resultTextBox.insert(INSERT, [w[0].text for w in computed_similarities[:10]])\n",
    "        print([w[0].text for w in computed_similarities[:10]])\n",
    "        \n",
    "btnGetResult = Button(window, text=\"Get Result\", command=calculateResult)\n",
    "btnGetResult.grid(column=0, row=8)\n",
    "\n",
    "lbl = Label(window, text=\"Results:\")\n",
    "lbl.grid(column=2, row=8)\n",
    "resultTextBox = scrolledtext.ScrolledText(window, width=20, height=20)\n",
    "resultTextBox.grid(column=2, row=9)\n",
    "\n",
    "\n",
    "\n",
    "window.mainloop()"
   ]
  }
 ],
 "metadata": {
  "kernelspec": {
   "display_name": "Python 3",
   "language": "python",
   "name": "python3"
  },
  "language_info": {
   "codemirror_mode": {
    "name": "ipython",
    "version": 3
   },
   "file_extension": ".py",
   "mimetype": "text/x-python",
   "name": "python",
   "nbconvert_exporter": "python",
   "pygments_lexer": "ipython3",
   "version": "3.7.3"
  },
  "pycharm": {
   "stem_cell": {
    "cell_type": "raw",
    "metadata": {
     "collapsed": false
    },
    "source": []
   }
  }
 },
 "nbformat": 4,
 "nbformat_minor": 1
}
